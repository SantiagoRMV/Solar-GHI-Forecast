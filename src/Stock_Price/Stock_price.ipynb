{
 "cells": [
  {
   "cell_type": "code",
   "execution_count": 9,
   "metadata": {},
   "outputs": [
    {
     "name": "stdout",
     "output_type": "stream",
     "text": [
      "['https://www.simem.co/backend-files/api/PublicData?datasetId=EC6945&startdate=2023-04-01&enddate=2023-04-01']\n",
      "['https://www.simem.co/backend-files/api/PublicData?datasetId=EC6945&startdate=2023-04-02&enddate=2023-04-02']\n",
      "['https://www.simem.co/backend-files/api/PublicData?datasetId=EC6945&startdate=2023-04-03&enddate=2023-04-03']\n",
      "['https://www.simem.co/backend-files/api/PublicData?datasetId=EC6945&startdate=2023-04-04&enddate=2023-04-04']\n",
      "['https://www.simem.co/backend-files/api/PublicData?datasetId=EC6945&startdate=2023-04-05&enddate=2023-04-05']\n",
      "{'2023-04-01': [142.0, 125.0, 125.0, 125.0, 125.0, 125.0, 125.0, 126.0, 142.0, 158.0, 158.0, 163.0, 168.0, 163.0, 158.0, 158.0, 158.0, 158.0, 166.0, 173.0, 173.0, 166.0, 158.0, 158.0], '2023-04-02': [159.0, 159.0, 149.0, 139.0, 139.0, 139.0, 139.0, 139.0, 139.0, 149.0, 159.0, 159.0, 159.0, 159.0, 159.0, 159.0, 159.0, 159.0, 159.0, 164.0, 171.0, 171.0, 164.0, 159.0], '2023-04-03': [141.0, 126.0, 126.0, 125.0, 125.0, 126.0, 126.0, 132.0, 146.0, 156.0, 157.0, 157.0, 157.0, 157.0, 157.0, 157.0, 157.0, 157.0, 157.0, 162.0, 162.0, 157.0, 157.0, 156.0], '2023-04-04': [135.0, 134.0, 134.0, 134.0, 134.0, 135.0, 135.0, 135.0, 141.0, 146.0, 146.0, 150.0, 153.0, 153.0, 165.0, 176.0, 176.0, 161.0, 161.0, 176.0, 176.0, 161.0, 146.0, 141.0], '2023-04-05': [139.0, 139.0, 139.0, 139.0, 139.0, 139.0, 139.0, 139.0, 139.0, 144.0, 148.0, 148.0, 148.0, 148.0, 148.0, 148.0, 148.0, 148.0, 154.0, 160.0, 154.0, 148.0, 144.0, 139.0]}\n"
     ]
    }
   ],
   "source": [
    "import pandas as pd\n",
    "from pydataxm.pydatasimem import ReadSIMEM\n",
    "\n",
    "def procesar_precio_bolsa(simem, p_bolsa_id, fecha_inicial, fecha_final):\n",
    "    \"\"\"\n",
    "    Procesa los datos de PrecioBolsa para un rango de fechas y genera una lista por día con 24 valores horarios.\n",
    "    Args:\n",
    "        simem (ReadSIMEM): Objeto SIMEM para obtener datos.\n",
    "        p_bolsa_id (str): ID de la variable PrecioBolsa.\n",
    "        fecha_inicial (str): Fecha inicial en formato 'YYYY-MM-DD'.\n",
    "        fecha_final (str): Fecha final en formato 'YYYY-MM-DD'.\n",
    "    Returns:\n",
    "        dict: Diccionario con la fecha como clave y una lista de valores horarios como valor.\n",
    "    \"\"\"\n",
    "    rango_fechas = pd.date_range(start=fecha_inicial, end=fecha_final)\n",
    "    resultados_por_dia = {}  # Diccionario para almacenar los resultados\n",
    "\n",
    "    for fecha in rango_fechas:\n",
    "        fecha_str = fecha.strftime('%Y-%m-%d')\n",
    "        try:\n",
    "            # Obtener los datos del día actual desde la API\n",
    "            p_bolsa_df = simem.main(p_bolsa_id, fecha_str, fecha_str)\n",
    "\n",
    "            # Filtrar por la variable específica PB_Nal\n",
    "            filtro_bolsa = 'PB_Nal'\n",
    "            p_bolsa_df_filtrado = (\n",
    "                p_bolsa_df[p_bolsa_df['CodigoVariable'] == filtro_bolsa]\n",
    "                .copy()\n",
    "                .sort_values('FechaHora')\n",
    "                .reset_index(drop=True)\n",
    "            )\n",
    "\n",
    "            # Realizar las transformaciones especificadas\n",
    "            p_bolsa_df_filtrado['FechaHora'] = pd.to_datetime(p_bolsa_df_filtrado['FechaHora'], format='%Y-%m-%d %H:%M:%S')\n",
    "            p_bolsa_df_filtrado['Fecha'] = p_bolsa_df_filtrado['FechaHora'].dt.strftime('%Y-%m-%d')\n",
    "            p_bolsa_df_filtrado['Hour'] = p_bolsa_df_filtrado['FechaHora'].dt.strftime('%H:%M:%S')\n",
    "            p_bolsa_df_filtrado.rename(columns={'Valor': 'PrecioBolsa'}, inplace=True)\n",
    "\n",
    "            # Agrupar y promediar los datos por fecha y hora\n",
    "            p_bolsa_df_filtrado = (\n",
    "                p_bolsa_df_filtrado[['Fecha', 'Hour', 'PrecioBolsa']]\n",
    "                .groupby(['Fecha', 'Hour'])\n",
    "                .mean()\n",
    "                .reset_index()\n",
    "            )\n",
    "            \n",
    "            p_bolsa_df_filtrado['PrecioBolsa'] = p_bolsa_df_filtrado['PrecioBolsa'].round(0)\n",
    "\n",
    "            # Extraer los valores horarios directamente\n",
    "            valores_horarios = p_bolsa_df_filtrado['PrecioBolsa'].tolist()\n",
    "\n",
    "            # Validar que hay exactamente 24 valores\n",
    "            if len(valores_horarios) == 24:\n",
    "                resultados_por_dia[fecha_str] = valores_horarios\n",
    "            else:\n",
    "                print(f\"Advertencia: {fecha_str} tiene {len(valores_horarios)} registros en lugar de 24.\")\n",
    "\n",
    "        except Exception as e:\n",
    "            print(f\"Error procesando la fecha {fecha_str}: {e}\")\n",
    "            continue\n",
    "\n",
    "    return resultados_por_dia\n",
    "\n",
    "# Ejemplo de uso\n",
    "simem = ReadSIMEM()\n",
    "p_bolsa_id = 'EC6945'\n",
    "fecha_inicial = '2023-04-01'\n",
    "fecha_final = '2023-04-05'\n",
    "\n",
    "resultados = procesar_precio_bolsa(simem, p_bolsa_id, fecha_inicial, fecha_final)\n",
    "print(resultados)\n"
   ]
  }
 ],
 "metadata": {
  "kernelspec": {
   "display_name": "base",
   "language": "python",
   "name": "python3"
  },
  "language_info": {
   "codemirror_mode": {
    "name": "ipython",
    "version": 3
   },
   "file_extension": ".py",
   "mimetype": "text/x-python",
   "name": "python",
   "nbconvert_exporter": "python",
   "pygments_lexer": "ipython3",
   "version": "3.11.5"
  }
 },
 "nbformat": 4,
 "nbformat_minor": 2
}
