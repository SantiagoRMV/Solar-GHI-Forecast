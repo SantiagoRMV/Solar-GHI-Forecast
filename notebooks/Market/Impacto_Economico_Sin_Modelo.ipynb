{
 "cells": [
  {
   "cell_type": "code",
   "execution_count": 1,
   "metadata": {},
   "outputs": [],
   "source": [
    "# --- Celda 1: Importación de librerías y archivos ---\n",
    "import os\n",
    "import pandas as pd\n",
    "import numpy as np\n",
    "\n",
    "# Importar funciones personalizadas\n",
    "from Files.KWH.data_loader import cargar_datos_generacion\n",
    "from Files.SP.StockPrice import procesar_precio_bolsa\n",
    "from Penalties.penalties_v2 import hourly_payment, daily_payment\n",
    "from Penalties.deviations import tolerance_range\n",
    "from pydataxm.pydatasimem import ReadSIMEM"
   ]
  },
  {
   "cell_type": "code",
   "execution_count": 2,
   "metadata": {},
   "outputs": [],
   "source": [
    "# --- Celda 2: Configuración de rutas y parámetros ---\n",
    "# Directorios de datos\n",
    "directorio_real = \"/Users/santiagoromero/Documents/Maestria/Trabajo de Grado/Red CNN-LSTM/Files/KWH/Real\"\n",
    "directorio_predicho = \"/Users/santiagoromero/Documents/Maestria/Trabajo de Grado/Red CNN-LSTM/Files/KWH/Sin_modelo\"\n",
    "\n",
    "# Parámetros para el precio de bolsa\n",
    "p_bolsa_id = \"EC6945\"\n",
    "fecha_inicial = \"2023-04-01\"\n",
    "fecha_final = \"2023-04-05\"\n",
    "\n"
   ]
  },
  {
   "cell_type": "code",
   "execution_count": 7,
   "metadata": {},
   "outputs": [
    {
     "name": "stdout",
     "output_type": "stream",
     "text": [
      "Procesando archivo: RP_real_04_04.csv\n",
      "Procesando archivo: RP_real_02_04.csv\n",
      "Procesando archivo: RP_real_05_04.csv\n",
      "Procesando archivo: RP_real_03_04.csv\n",
      "Procesando archivo: RP_real_01_04.csv\n",
      "Procesando archivo: RP_pred_with_noise_03_04.csv\n",
      "Procesando archivo: RP_pred_with_noise_01_04.csv\n",
      "Procesando archivo: RP_pred_with_noise_05_04.csv\n",
      "Procesando archivo: RP_pred_with_noise_02_04.csv\n",
      "Procesando archivo: RP_pred_with_noise_04_04.csv\n",
      "Datos reales (REAL):\n",
      "Fecha: 2023-04-04, Número de valores: 24, Valores: [0.0, 0.0, 0.0, 0.0, 0.0, 0.0, 296.47344, 972.06395, 1559.4749399999998, 2042.6726, 2317.7989, 2504.96574, 2460.42554, 2157.5986000000003, 1816.47046, 800.0121800000001, 351.93465000000003, 37.23308, 0.16965, 0.0, 0.0, 0.0, 0.0, 0.0]\n",
      "Fecha: 2023-04-02, Número de valores: 24, Valores: [0.0, 0.0, 0.0, 0.0, 0.0, 0.0, 199.79232000000002, 1001.65239, 1598.84476, 2055.0255899999997, 2282.64844, 2542.13984, 2223.8197999999998, 1855.86588, 1025.22529, 1247.8233, 321.17924, 125.13242, 0.0, 0.0, 0.0, 0.0, 0.0, 0.0]\n",
      "Fecha: 2023-04-05, Número de valores: 24, Valores: [0.0, 0.0, 0.0, 0.0, 0.0, 2.5675, 270.79189, 863.09316, 1382.8575600000001, 2010.69077, 2322.34422, 2043.2771599999999, 1829.20102, 1733.9663799999998, 1280.54874, 815.0562600000001, 166.03162, 105.85633, 0.45393, 0.0, 0.0, 0.0, 0.0, 0.0]\n",
      "Fecha: 2023-04-03, Número de valores: 24, Valores: [0.0, 0.0, 0.0, 0.0, 0.0, 0.0, 235.21357, 982.83207, 1592.01003, 2033.22076, 2318.34269, 2527.26667, 1698.9863300000002, 2247.94806, 1633.1223400000001, 1316.43882, 340.30939, 81.71334, 0.9293899999999999, 0.0, 0.0, 0.0, 0.0, 0.0]\n",
      "Fecha: 2023-04-01, Número de valores: 24, Valores: [0.0, 0.0, 0.0, 0.0, 0.0, 0.0, 295.29746, 926.5493100000001, 1433.9108899999999, 1928.967, 2209.6703399999997, 2490.7263599999997, 2386.9478, 2034.23821, 1736.11356, 1203.6188599999998, 534.9130200000001, 133.49063, 0.53708, 0.0, 0.0, 0.0, 0.0, 0.0]\n",
      "\n",
      "Datos predichos (AHEAD):\n",
      "Fecha: 2023-04-03, Número de valores: 24, Valores: [0.0, 0.0, 0.0, 0.0, 0.0, 0.0, 508.6847567449241, 1083.2546655538438, 1420.7875918195687, 1519.6274782837304, 1801.086112117976, 1672.3593178412111, 1039.5156814710322, 1098.6964493481373, 1239.8135553049874, 1273.1507649317023, 829.3968587671209, 481.124191613895, 0.0, 0.0, 0.0, 0.0, 0.0, 0.0]\n",
      "Fecha: 2023-04-01, Número de valores: 24, Valores: [0.0, 0.0, 0.0, 0.0, 0.0, 0.0, 578.3175944078044, 1038.718370034966, 1100.2075768988946, 1270.3337021057023, 1491.4705198505196, 1710.6469083466748, 1620.238704478229, 1732.4427010115824, 1295.4565286297848, 1135.628774402488, 1288.2020284899954, 1162.407925917597, 0.0, 0.0, 0.0, 0.0, 0.0, 0.0]\n",
      "Fecha: 2023-04-05, Número de valores: 24, Valores: [0.0, 0.0, 0.0, 0.0, 0.0, 27.629987743867186, 818.7787808938064, 1006.5454977165666, 1351.9386646746536, 1587.068897534125, 2314.6292652731286, 2057.618735362927, 2039.5538615531123, 1673.570157419454, 1490.3797502199377, 1107.536156869144, 200.93485460637314, 223.24193964666918, 11.590298746180672, 0.0, 0.0, 0.0, 0.0, 0.0]\n",
      "Fecha: 2023-04-02, Número de valores: 24, Valores: [0.0, 0.0, 0.0, 0.0, 0.0, 0.0, 348.29320960216876, 1030.931098375728, 1012.3670463579317, 917.6368008055066, 1617.8914413632142, 1666.8200597328077, 1197.895444554378, 1050.99127202768, 892.0111229336975, 998.5176822003035, 911.178491545801, 775.1891020938576, 0.0, 0.0, 0.0, 0.0, 0.0, 0.0]\n",
      "Fecha: 2023-04-04, Número de valores: 24, Valores: [0.0, 0.0, 0.0, 0.0, 0.0, 0.0, 634.8981257792559, 991.4594892254097, 1408.938889700928, 1749.329008178978, 2173.4984949373184, 2366.8586946666132, 1971.6978445007908, 2000.122177511972, 1240.2043772630402, 521.7289307886315, 246.50421895723994, 410.6101167565691, 0.0, 0.0, 0.0, 0.0, 0.0, 0.0]\n"
     ]
    }
   ],
   "source": [
    "# --- Celda 3: Carga de datos de generación ---\n",
    "from Files.KWH.data_loader import cargar_datos_generacion\n",
    "\n",
    "# Cargar datos reales y predichos\n",
    "REAL = cargar_datos_generacion(directorio_real, columna_objetivo=\"Pdc, W\")\n",
    "AHEAD = cargar_datos_generacion(directorio_predicho, columna_objetivo=\"Pdc, W\")\n",
    "\n",
    "# Depuración: Verificar contenido después de la carga\n",
    "print(\"Datos reales (REAL):\")\n",
    "for fecha, valores in REAL.items():\n",
    "    print(f\"Fecha: {fecha}, Número de valores: {len(valores)}, Valores: {valores}\")\n",
    "\n",
    "print(\"\\nDatos predichos (AHEAD):\")\n",
    "for fecha, valores in AHEAD.items():\n",
    "    print(f\"Fecha: {fecha}, Número de valores: {len(valores)}, Valores: {valores}\")\n",
    "\n",
    "# Manejo de TODAY\n",
    "TODAY = AHEAD  # Si TODAY también proviene de Predicho\n"
   ]
  },
  {
   "cell_type": "code",
   "execution_count": 4,
   "metadata": {},
   "outputs": [
    {
     "name": "stdout",
     "output_type": "stream",
     "text": [
      "['https://www.simem.co/backend-files/api/PublicData?datasetId=EC6945&startdate=2023-04-01&enddate=2023-04-01']\n",
      "['https://www.simem.co/backend-files/api/PublicData?datasetId=EC6945&startdate=2023-04-02&enddate=2023-04-02']\n",
      "['https://www.simem.co/backend-files/api/PublicData?datasetId=EC6945&startdate=2023-04-03&enddate=2023-04-03']\n",
      "['https://www.simem.co/backend-files/api/PublicData?datasetId=EC6945&startdate=2023-04-04&enddate=2023-04-04']\n",
      "['https://www.simem.co/backend-files/api/PublicData?datasetId=EC6945&startdate=2023-04-05&enddate=2023-04-05']\n",
      "Precios de bolsa (STOCK_PRICE): {'2023-04-01': [142.0, 125.0, 125.0, 125.0, 125.0, 125.0, 125.0, 126.0, 142.0, 158.0, 158.0, 163.0, 168.0, 163.0, 158.0, 158.0, 158.0, 158.0, 166.0, 173.0, 173.0, 166.0, 158.0, 158.0], '2023-04-02': [159.0, 159.0, 149.0, 139.0, 139.0, 139.0, 139.0, 139.0, 139.0, 149.0, 159.0, 159.0, 159.0, 159.0, 159.0, 159.0, 159.0, 159.0, 159.0, 164.0, 171.0, 171.0, 164.0, 159.0], '2023-04-03': [141.0, 126.0, 126.0, 125.0, 125.0, 126.0, 126.0, 132.0, 146.0, 156.0, 157.0, 157.0, 157.0, 157.0, 157.0, 157.0, 157.0, 157.0, 157.0, 162.0, 162.0, 157.0, 157.0, 156.0], '2023-04-04': [135.0, 134.0, 134.0, 134.0, 134.0, 135.0, 135.0, 135.0, 141.0, 146.0, 146.0, 150.0, 153.0, 153.0, 165.0, 176.0, 176.0, 161.0, 161.0, 176.0, 176.0, 161.0, 146.0, 141.0], '2023-04-05': [139.0, 139.0, 139.0, 139.0, 139.0, 139.0, 139.0, 139.0, 139.0, 144.0, 148.0, 148.0, 148.0, 148.0, 148.0, 148.0, 148.0, 148.0, 154.0, 160.0, 154.0, 148.0, 144.0, 139.0]}\n"
     ]
    }
   ],
   "source": [
    "# --- Celda 4: Carga de precios de bolsa ---\n",
    "simem = ReadSIMEM()\n",
    "STOCK_PRICE = procesar_precio_bolsa(simem, p_bolsa_id, fecha_inicial, fecha_final)\n",
    "\n",
    "# Mostrar precios de bolsa\n",
    "print(\"Precios de bolsa (STOCK_PRICE):\", STOCK_PRICE)\n",
    "\n"
   ]
  },
  {
   "cell_type": "code",
   "execution_count": 10,
   "metadata": {},
   "outputs": [],
   "source": [
    "# --- Celda 5: Cálculo de penalidades ---\n",
    "def calcular_penalidades(real, ahead, today, stock_price):\n",
    "    \"\"\"\n",
    "    Calcula penalidades horarias y diarias para un rango de fechas.\n",
    "    \"\"\"\n",
    "    resultados = {}\n",
    "\n",
    "    for fecha in real.keys():\n",
    "        try:\n",
    "            # Convertir listas a arrays de NumPy\n",
    "            real_array = np.array(real[fecha], dtype=float)\n",
    "            ahead_array = np.array(ahead[fecha], dtype=float)\n",
    "            today_array = np.array(today[fecha], dtype=float)\n",
    "            stock_price_array = np.array(stock_price[fecha], dtype=float)\n",
    "\n",
    "            # Calcular tolerancias\n",
    "            tolerance_ahead = tolerance_range(first_dispatch=False, real=np.nansum(real_array), gx=np.nansum(ahead_array))\n",
    "            tolerance_today = tolerance_range(first_dispatch=True, real=np.nansum(real_array), gx=np.nansum(today_array))\n",
    "\n",
    "            # Calcular pagos horarios\n",
    "            payment_ahead = hourly_payment(tolerance=tolerance_ahead, real=real_array, gx=ahead_array, stock_price=stock_price_array)\n",
    "            payment_today = hourly_payment(tolerance=tolerance_today, real=real_array, gx=today_array, stock_price=stock_price_array)\n",
    "\n",
    "            # Calcular pago diario\n",
    "            daily_payment_result = daily_payment(ahead=payment_ahead, today=payment_today)\n",
    "\n",
    "            # Guardar resultados\n",
    "            resultados[fecha] = {\n",
    "                \"payment_ahead\": payment_ahead,\n",
    "                \"payment_today\": payment_today,\n",
    "                \"daily_payment\": daily_payment_result\n",
    "            }\n",
    "\n",
    "        except Exception as e:\n",
    "            print(f\"Error procesando la fecha {fecha}: {e}\")\n",
    "\n",
    "    return resultados\n",
    "\n",
    "# Calcular penalidades\n",
    "resultados_penalidades = calcular_penalidades(REAL, AHEAD, TODAY, STOCK_PRICE)\n",
    "\n"
   ]
  },
  {
   "cell_type": "code",
   "execution_count": 11,
   "metadata": {},
   "outputs": [
    {
     "name": "stdout",
     "output_type": "stream",
     "text": [
      "Fecha: 2023-04-04\n",
      "Pago por predicción (AHEAD): [0.00000e+00 0.00000e+00 0.00000e+00 0.00000e+00 0.00000e+00 0.00000e+00\n",
      " 4.56873e+04 0.00000e+00 2.12256e+04 4.28282e+04 0.00000e+00 0.00000e+00\n",
      " 7.47753e+04 0.00000e+00 9.50839e+04 4.89779e+04 1.85558e+04 6.01137e+04\n",
      " 2.73000e+01 0.00000e+00 0.00000e+00 0.00000e+00 0.00000e+00 0.00000e+00]\n",
      "Pago por predicción (TODAY): [0. 0. 0. 0. 0. 0. 0. 0. 0. 0. 0. 0. 0. 0. 0. 0. 0. 0. 0. 0. 0. 0. 0. 0.]\n",
      "Pago diario: 407275.0\n",
      "-----\n",
      "Fecha: 2023-04-02\n",
      "Pago por predicción (AHEAD): [     0.       0.       0.       0.       0.       0.   20641.6      0.\n",
      "  81520.4 169470.9 105696.4 139175.8 163122.  127975.1  21181.1  39639.6\n",
      "  93809.9 103359.       0.       0.       0.       0.       0.       0. ]\n",
      "Pago por predicción (TODAY): [     0.       0.       0.       0.       0.       0.   20641.6      0.\n",
      "  81520.4 169470.9 105696.4 139175.8 163122.  127975.1  21181.1  39639.6\n",
      "  93809.9 103359.       0.       0.       0.       0.       0.       0. ]\n",
      "Pago diario: 1065591.8\n",
      "-----\n",
      "Fecha: 2023-04-05\n",
      "Pago por predicción (AHEAD): [0. 0. 0. 0. 0. 0. 0. 0. 0. 0. 0. 0. 0. 0. 0. 0. 0. 0. 0. 0. 0. 0. 0. 0.]\n",
      "Pago por predicción (TODAY): [0. 0. 0. 0. 0. 0. 0. 0. 0. 0. 0. 0. 0. 0. 0. 0. 0. 0. 0. 0. 0. 0. 0. 0.]\n",
      "Pago diario: 0.0\n",
      "-----\n",
      "Fecha: 2023-04-03\n",
      "Pago por predicción (AHEAD): [0.000000e+00 0.000000e+00 0.000000e+00 0.000000e+00 0.000000e+00\n",
      " 0.000000e+00 3.445740e+04 1.325580e+04 2.499850e+04 8.012060e+04\n",
      " 8.120930e+04 1.342205e+05 1.035369e+05 1.804325e+05 6.174950e+04\n",
      " 0.000000e+00 7.678670e+04 6.270750e+04 1.459000e+02 0.000000e+00\n",
      " 0.000000e+00 0.000000e+00 0.000000e+00 0.000000e+00]\n",
      "Pago por predicción (TODAY): [0.000000e+00 0.000000e+00 0.000000e+00 0.000000e+00 0.000000e+00\n",
      " 0.000000e+00 3.445740e+04 1.325580e+04 2.499850e+04 8.012060e+04\n",
      " 8.120930e+04 1.342205e+05 1.035369e+05 1.804325e+05 6.174950e+04\n",
      " 0.000000e+00 7.678670e+04 6.270750e+04 1.459000e+02 0.000000e+00\n",
      " 0.000000e+00 0.000000e+00 0.000000e+00 0.000000e+00]\n",
      "Pago diario: 853621.1000000001\n",
      "-----\n",
      "Fecha: 2023-04-01\n",
      "Pago por predicción (AHEAD): [0.000000e+00 0.000000e+00 0.000000e+00 0.000000e+00 0.000000e+00\n",
      " 0.000000e+00 3.537750e+04 1.413330e+04 4.738590e+04 1.040641e+05\n",
      " 1.134756e+05 1.271530e+05 1.288071e+05 4.919270e+04 6.962380e+04\n",
      " 0.000000e+00 1.190197e+05 1.625689e+05 8.920000e+01 0.000000e+00\n",
      " 0.000000e+00 0.000000e+00 0.000000e+00 0.000000e+00]\n",
      "Pago por predicción (TODAY): [0. 0. 0. 0. 0. 0. 0. 0. 0. 0. 0. 0. 0. 0. 0. 0. 0. 0. 0. 0. 0. 0. 0. 0.]\n",
      "Pago diario: 970890.7999999999\n",
      "-----\n"
     ]
    }
   ],
   "source": [
    "# --- Celda 6: Visualización de resultados ---\n",
    "# Mostrar resultados finales\n",
    "for fecha, resultado in resultados_penalidades.items():\n",
    "    print(f\"Fecha: {fecha}\")\n",
    "    print(\"Pago por predicción (AHEAD):\", resultado[\"payment_ahead\"])\n",
    "    print(\"Pago por predicción (TODAY):\", resultado[\"payment_today\"])\n",
    "    print(\"Pago diario:\", resultado[\"daily_payment\"])\n",
    "    print(\"-----\")\n"
   ]
  },
  {
   "cell_type": "code",
   "execution_count": 12,
   "metadata": {},
   "outputs": [
    {
     "ename": "AttributeError",
     "evalue": "'ReadSIMEM' object has no attribute 'query'",
     "output_type": "error",
     "traceback": [
      "\u001b[0;31m---------------------------------------------------------------------------\u001b[0m",
      "\u001b[0;31mAttributeError\u001b[0m                            Traceback (most recent call last)",
      "Cell \u001b[0;32mIn[12], line 35\u001b[0m\n\u001b[1;32m     33\u001b[0m \u001b[38;5;66;03m# --- Celda 4: Obtener datos de bolsa y calcular variaciones ---\u001b[39;00m\n\u001b[1;32m     34\u001b[0m simem \u001b[38;5;241m=\u001b[39m ReadSIMEM()\n\u001b[0;32m---> 35\u001b[0m variaciones_mensuales \u001b[38;5;241m=\u001b[39m obtener_variaciones_mensuales(simem, p_bolsa_id, fecha_inicial, fecha_final)\n\u001b[1;32m     37\u001b[0m \u001b[38;5;66;03m# Mostrar las variaciones calculadas\u001b[39;00m\n\u001b[1;32m     38\u001b[0m \u001b[38;5;28mprint\u001b[39m(\u001b[38;5;124m\"\u001b[39m\u001b[38;5;124mVariaciones mensuales en el precio de la bolsa (\u001b[39m\u001b[38;5;124m%\u001b[39m\u001b[38;5;124m):\u001b[39m\u001b[38;5;124m\"\u001b[39m)\n",
      "Cell \u001b[0;32mIn[12], line 18\u001b[0m, in \u001b[0;36mobtener_variaciones_mensuales\u001b[0;34m(simem, p_bolsa_id, fecha_inicial, fecha_final)\u001b[0m\n\u001b[1;32m     14\u001b[0m \u001b[38;5;250m\u001b[39m\u001b[38;5;124;03m\"\"\"\u001b[39;00m\n\u001b[1;32m     15\u001b[0m \u001b[38;5;124;03mCalcula las variaciones mensuales en el precio de la bolsa de energía.\u001b[39;00m\n\u001b[1;32m     16\u001b[0m \u001b[38;5;124;03m\"\"\"\u001b[39;00m\n\u001b[1;32m     17\u001b[0m \u001b[38;5;66;03m# Cargar precios de bolsa desde la API\u001b[39;00m\n\u001b[0;32m---> 18\u001b[0m datos_bolsa \u001b[38;5;241m=\u001b[39m simem\u001b[38;5;241m.\u001b[39mquery(p_bolsa_id, fecha_inicial, fecha_final)\n\u001b[1;32m     19\u001b[0m df_bolsa \u001b[38;5;241m=\u001b[39m pd\u001b[38;5;241m.\u001b[39mDataFrame(datos_bolsa)\n\u001b[1;32m     21\u001b[0m \u001b[38;5;66;03m# Asegurarse de que las fechas estén en formato datetime\u001b[39;00m\n",
      "\u001b[0;31mAttributeError\u001b[0m: 'ReadSIMEM' object has no attribute 'query'"
     ]
    }
   ],
   "source": [
    "# --- Celda 1: Importar librerías ---\n",
    "import os\n",
    "import pandas as pd\n",
    "import numpy as np\n",
    "from pydataxm.pydatasimem import ReadSIMEM\n",
    "\n",
    "# --- Celda 2: Configurar parámetros ---\n",
    "p_bolsa_id = \"EC6945\"  # ID del precio de la bolsa\n",
    "fecha_inicial = \"2023-01-01\"\n",
    "fecha_final = \"2023-12-31\"\n",
    "\n",
    "# --- Celda 3: Función para procesar precios de bolsa mensuales ---\n",
    "def obtener_variaciones_mensuales(simem, p_bolsa_id, fecha_inicial, fecha_final):\n",
    "    \"\"\"\n",
    "    Calcula las variaciones mensuales en el precio de la bolsa de energía.\n",
    "    \"\"\"\n",
    "    # Cargar precios de bolsa desde la API\n",
    "    datos_bolsa = simem.query(p_bolsa_id, fecha_inicial, fecha_final)\n",
    "    df_bolsa = pd.DataFrame(datos_bolsa)\n",
    "\n",
    "    # Asegurarse de que las fechas estén en formato datetime\n",
    "    df_bolsa['fecha'] = pd.to_datetime(df_bolsa['fecha'])\n",
    "\n",
    "    # Calcular el promedio mensual del precio\n",
    "    df_bolsa['mes'] = df_bolsa['fecha'].dt.to_period('M')\n",
    "    promedio_mensual = df_bolsa.groupby('mes')['valor'].mean()\n",
    "\n",
    "    # Calcular las variaciones porcentuales mes a mes\n",
    "    variaciones_mensuales = promedio_mensual.pct_change().fillna(0)  # Variaciones respecto al mes anterior\n",
    "\n",
    "    return variaciones_mensuales\n",
    "\n",
    "# --- Celda 4: Obtener datos de bolsa y calcular variaciones ---\n",
    "simem = ReadSIMEM()\n",
    "variaciones_mensuales = obtener_variaciones_mensuales(simem, p_bolsa_id, fecha_inicial, fecha_final)\n",
    "\n",
    "# Mostrar las variaciones calculadas\n",
    "print(\"Variaciones mensuales en el precio de la bolsa (%):\")\n",
    "print(variaciones_mensuales)"
   ]
  }
 ],
 "metadata": {
  "kernelspec": {
   "display_name": "base",
   "language": "python",
   "name": "python3"
  },
  "language_info": {
   "codemirror_mode": {
    "name": "ipython",
    "version": 3
   },
   "file_extension": ".py",
   "mimetype": "text/x-python",
   "name": "python",
   "nbconvert_exporter": "python",
   "pygments_lexer": "ipython3",
   "version": "3.11.5"
  }
 },
 "nbformat": 4,
 "nbformat_minor": 2
}
