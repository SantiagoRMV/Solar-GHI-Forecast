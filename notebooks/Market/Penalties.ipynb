{
 "cells": [
  {
   "cell_type": "code",
   "execution_count": 15,
   "metadata": {},
   "outputs": [],
   "source": [
    "import sys\n",
    "import numpy as np\n",
    "from Penalties.deviations import tolerance_range\n",
    "from Penalties.penalties_v2 import hourly_payment, daily_payment\n",
    "from Penalties.utils import NUMERIC\n",
    "from numpy import array, nansum, append, zeros, nan\n",
    "from Files.Datos import REAL, AHEAD, TODAY, STOCK_PRICE"
   ]
  },
  {
   "cell_type": "code",
   "execution_count": 16,
   "metadata": {},
   "outputs": [
    {
     "name": "stdout",
     "output_type": "stream",
     "text": [
      "0.05\n",
      "[0.000000e+00 0.000000e+00 0.000000e+00 0.000000e+00 0.000000e+00\n",
      " 0.000000e+00 6.606010e+04 1.291457e+05 1.202463e+05 1.645160e+05\n",
      " 1.992144e+05 3.589190e+04 1.426142e+05 7.991990e+04 8.215180e+04\n",
      " 0.000000e+00 1.355711e+05 1.713245e+05 1.243000e+02 0.000000e+00\n",
      " 0.000000e+00 0.000000e+00 0.000000e+00 0.000000e+00]\n"
     ]
    }
   ],
   "source": [
    "\n",
    "# Asegúrate de que todas las entradas sean arrays de NumPy\n",
    "REAL = np.array(REAL, dtype=float)  # Ya es numpy.ndarray\n",
    "AHEAD = np.array(AHEAD, dtype=float)  # Convertir a numpy.ndarray\n",
    "STOCK_PRICE = np.array(STOCK_PRICE, dtype=float)  # Convertir a numpy.ndarray\n",
    "\n",
    "# Llama a la función\n",
    "payment_ahead = hourly_payment(\n",
    "    tolerance=tolerance_ahead,  # float\n",
    "    real=REAL,                  # numpy.ndarray\n",
    "    gx=AHEAD,                   # numpy.ndarray\n",
    "    stock_price=STOCK_PRICE     # numpy.ndarray\n",
    ")\n",
    "\n",
    "print(tolerance_ahead)  # Imprime el valor de tolerancia\n",
    "print(payment_ahead)    # Imprime el resultado del pago\n"
   ]
  },
  {
   "cell_type": "code",
   "execution_count": 17,
   "metadata": {},
   "outputs": [
    {
     "name": "stdout",
     "output_type": "stream",
     "text": [
      "<class 'float'>\n",
      "<class 'numpy.ndarray'>\n",
      "<class 'numpy.ndarray'>\n",
      "<class 'numpy.ndarray'>\n"
     ]
    }
   ],
   "source": [
    "print(type(tolerance_ahead))  # Debe ser un número (float o int)\n",
    "print(type(REAL))  # Debe ser un array o numpy.ndarray\n",
    "print(type(AHEAD))  # Debe ser un array o numpy.ndarray\n",
    "print(type(STOCK_PRICE))  # Debe ser un array o numpy.ndarray\n"
   ]
  },
  {
   "cell_type": "code",
   "execution_count": 18,
   "metadata": {},
   "outputs": [],
   "source": [
    "#REAL = array([0, 0, 0, 0, 0, 0, 3, 7, 12, 24, 48, 52, 54.7, 58.5])\n",
    "#AHEAD = array([0, 0, 0, 0, 0, 0, 7, 8, 15, 32, 43, 40, 45, 68, 68, 66, 50, 18, 0, 0, 0, 0, 0, 0])\n",
    "#TODAY = array([0, 0, 0, 0, 0, 0, 7, 8, 15, 32, 43, 40, 45, 68, 68, 66, 50, 18, 0, 0, 0, 0, 0, 0])\n",
    "#STOCK_PRICE = array([89_863.7, 89_863.7, 89_863.7, 89_863.7, 89_863.7, 89_863.7, 89_863.7, 89_863.7, 89_863.7, 89_863.7, 89_863.7, 89_863.7, \n",
    "                #89_863.7, 89_863.7, 89_863.7, 89_863.7, 89_863.7, 89_863.7, 89_863.7, 89_863.7, 89_863.7, 89_863.7, 89_863.7, 89_863.7])\n",
    "PERIODS = 24"
   ]
  },
  {
   "cell_type": "code",
   "execution_count": 19,
   "metadata": {},
   "outputs": [],
   "source": [
    "REAL = append(arr=REAL, values=zeros(shape=PERIODS - len(REAL)) + nan)\n",
    "TODAY = append(arr=TODAY, values=zeros(shape=PERIODS - len(TODAY)) + nan)"
   ]
  },
  {
   "cell_type": "code",
   "execution_count": 20,
   "metadata": {},
   "outputs": [
    {
     "name": "stdout",
     "output_type": "stream",
     "text": [
      "0.05\n",
      "[0.000000e+00 0.000000e+00 0.000000e+00 0.000000e+00 0.000000e+00\n",
      " 0.000000e+00 6.606010e+04 1.291457e+05 1.202463e+05 1.645160e+05\n",
      " 1.992144e+05 3.589190e+04 1.426142e+05 7.991990e+04 8.215180e+04\n",
      " 0.000000e+00 1.355711e+05 1.713245e+05 1.243000e+02 0.000000e+00\n",
      " 0.000000e+00 0.000000e+00 0.000000e+00 0.000000e+00]\n"
     ]
    }
   ],
   "source": [
    "tolerance_ahead = tolerance_range(first_dispatch=True, real=nansum(a=REAL), gx=nansum(a=AHEAD))\n",
    "\n",
    "payment_ahead = hourly_payment(tolerance=tolerance_ahead,\n",
    "                                real=REAL,\n",
    "                                gx=AHEAD,\n",
    "                                stock_price=STOCK_PRICE)  # Eliminado offer_price\n",
    "\n",
    "print(tolerance_ahead)\n",
    "print(payment_ahead)"
   ]
  },
  {
   "cell_type": "code",
   "execution_count": 21,
   "metadata": {},
   "outputs": [
    {
     "name": "stdout",
     "output_type": "stream",
     "text": [
      "0.05\n",
      "[0.000000e+00 0.000000e+00 0.000000e+00 0.000000e+00 0.000000e+00\n",
      " 0.000000e+00 6.606010e+04 1.291457e+05 1.202463e+05 1.645160e+05\n",
      " 1.992144e+05 3.589190e+04 1.426142e+05 7.991990e+04 8.215180e+04\n",
      " 0.000000e+00 1.355711e+05 1.713245e+05 1.243000e+02 0.000000e+00\n",
      " 0.000000e+00 0.000000e+00 0.000000e+00 0.000000e+00]\n"
     ]
    }
   ],
   "source": [
    "tolerance_today = tolerance_range(first_dispatch=False, real=nansum(a=REAL), gx=nansum(a=TODAY))\n",
    "\n",
    "payment_today = hourly_payment(tolerance=tolerance_today,\n",
    "                                real=REAL,\n",
    "                                gx=TODAY,\n",
    "                                stock_price=STOCK_PRICE)  # Eliminado offer_price\n",
    "\n",
    "print(tolerance_today)\n",
    "print(payment_today)"
   ]
  },
  {
   "cell_type": "code",
   "execution_count": 22,
   "metadata": {},
   "outputs": [
    {
     "data": {
      "text/plain": [
       "1326780.2000000002"
      ]
     },
     "execution_count": 22,
     "metadata": {},
     "output_type": "execute_result"
    }
   ],
   "source": [
    "daily_payment(ahead=payment_ahead, today=payment_today)"
   ]
  }
 ],
 "metadata": {
  "kernelspec": {
   "display_name": "base",
   "language": "python",
   "name": "python3"
  },
  "language_info": {
   "codemirror_mode": {
    "name": "ipython",
    "version": 3
   },
   "file_extension": ".py",
   "mimetype": "text/x-python",
   "name": "python",
   "nbconvert_exporter": "python",
   "pygments_lexer": "ipython3",
   "version": "3.11.5"
  }
 },
 "nbformat": 4,
 "nbformat_minor": 2
}
