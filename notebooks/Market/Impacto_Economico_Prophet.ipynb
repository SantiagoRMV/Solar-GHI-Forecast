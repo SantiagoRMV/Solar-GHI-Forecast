{
 "cells": [
  {
   "cell_type": "code",
   "execution_count": 2,
   "metadata": {},
   "outputs": [],
   "source": [
    "# --- Celda 1: Importación de librerías y archivos ---\n",
    "import os\n",
    "import pandas as pd\n",
    "import numpy as np\n",
    "\n",
    "# Importar funciones personalizadas\n",
    "from Files.KWH.data_loader import cargar_datos_generacion\n",
    "from Files.SP.StockPrice import procesar_precio_bolsa\n",
    "from Penalties.penalties_v2 import hourly_payment, daily_payment\n",
    "from Penalties.deviations import tolerance_range\n",
    "from pydataxm.pydatasimem import ReadSIMEM"
   ]
  },
  {
   "cell_type": "code",
   "execution_count": 8,
   "metadata": {},
   "outputs": [],
   "source": [
    "# --- Celda 2: Configuración de rutas y parámetros ---\n",
    "# Directorios de datos\n",
    "directorio_real = \"Files/KWH/Real\"\n",
    "directorio_predicho = \"Files/KWH/Prophet\"\n",
    "\n",
    "# Parámetros para el precio de bolsa\n",
    "p_bolsa_id = \"EC6945\"\n",
    "fecha_inicial = \"2023-04-01\"\n",
    "fecha_final = \"2023-04-05\"\n",
    "\n"
   ]
  },
  {
   "cell_type": "code",
   "execution_count": 16,
   "metadata": {},
   "outputs": [
    {
     "name": "stdout",
     "output_type": "stream",
     "text": [
      "Procesando archivo: RP_real_04_04.csv\n",
      "Procesando archivo: RP_real_02_04.csv\n",
      "Procesando archivo: RP_real_05_04.csv\n",
      "Procesando archivo: RP_real_03_04.csv\n",
      "Procesando archivo: RP_real_01_04.csv\n",
      "Procesando archivo: RP_prophet_03_04.csv\n",
      "Procesando archivo: RP_prophet_01_04.csv\n",
      "Procesando archivo: RP_prophet_05_04.csv\n",
      "Procesando archivo: RP_prophet_02_04.csv\n",
      "Procesando archivo: RP_prophet_04_04.csv\n",
      "Datos reales (REAL):\n",
      "Fecha: 2023-04-04, Número de valores: 24, Valores: [0.0, 0.0, 0.0, 0.0, 0.0, 0.0, 296.47344, 972.06395, 1559.4749399999998, 2042.6726, 2317.7989, 2504.96574, 2460.42554, 2157.5986000000003, 1816.47046, 800.0121800000001, 351.93465000000003, 37.23308, 0.16965, 0.0, 0.0, 0.0, 0.0, 0.0]\n",
      "Fecha: 2023-04-02, Número de valores: 24, Valores: [0.0, 0.0, 0.0, 0.0, 0.0, 0.0, 199.79232000000002, 1001.65239, 1598.84476, 2055.0255899999997, 2282.64844, 2542.13984, 2223.8197999999998, 1855.86588, 1025.22529, 1247.8233, 321.17924, 125.13242, 0.0, 0.0, 0.0, 0.0, 0.0, 0.0]\n",
      "Fecha: 2023-04-05, Número de valores: 24, Valores: [0.0, 0.0, 0.0, 0.0, 0.0, 2.5675, 270.79189, 863.09316, 1382.8575600000001, 2010.69077, 2322.34422, 2043.2771599999999, 1829.20102, 1733.9663799999998, 1280.54874, 815.0562600000001, 166.03162, 105.85633, 0.45393, 0.0, 0.0, 0.0, 0.0, 0.0]\n",
      "Fecha: 2023-04-03, Número de valores: 24, Valores: [0.0, 0.0, 0.0, 0.0, 0.0, 0.0, 235.21357, 982.83207, 1592.01003, 2033.22076, 2318.34269, 2527.26667, 1698.9863300000002, 2247.94806, 1633.1223400000001, 1316.43882, 340.30939, 81.71334, 0.9293899999999999, 0.0, 0.0, 0.0, 0.0, 0.0]\n",
      "Fecha: 2023-04-01, Número de valores: 24, Valores: [0.0, 0.0, 0.0, 0.0, 0.0, 0.0, 295.29746, 926.5493100000001, 1433.9108899999999, 1928.967, 2209.6703399999997, 2490.7263599999997, 2386.9478, 2034.23821, 1736.11356, 1203.6188599999998, 534.9130200000001, 133.49063, 0.53708, 0.0, 0.0, 0.0, 0.0, 0.0]\n",
      "\n",
      "Datos predichos (AHEAD):\n",
      "Fecha: 2023-04-03, Número de valores: 24, Valores: [0.0, 0.0, 0.0, 0.0, 0.0, 0.0, 138.53802, 617.9711599999999, 1212.11831, 1709.14465, 2036.47636, 2214.01901, 2239.15946, 2084.87068, 1755.22002, 1256.50176, 674.50302, 216.70966, 10.59277, 0.0, 0.0, 0.0, 0.0, 0.0]\n",
      "Fecha: 2023-04-01, Número de valores: 24, Valores: [0.0, 0.0, 0.0, 0.0, 0.0, 0.0, 235.20493, 733.73349, 1328.9069, 1821.57024, 2121.15604, 2234.82853, 2169.72185, 1974.5406699999999, 1636.1724, 1174.0126, 607.80747, 155.65932, 3.82496, 0.0, 0.0, 0.0, 0.0, 0.0]\n",
      "Fecha: 2023-04-05, Número de valores: 24, Valores: [0.0, 0.0, 0.0, 0.0, 0.0, 0.0, 138.53802, 617.9711599999999, 1212.11831, 1709.14465, 2036.47636, 2214.01901, 2239.15946, 2084.87068, 1755.22002, 1256.50176, 674.50302, 216.70966, 10.59277, 0.0, 0.0, 0.0, 0.0, 0.0]\n",
      "Fecha: 2023-04-02, Número de valores: 24, Valores: [0.0, 0.0, 0.0, 0.0, 0.0, 0.0, 138.53802, 617.9711599999999, 1212.11831, 1709.14465, 2036.47636, 2214.01901, 2239.15946, 2084.87068, 1755.22002, 1256.50176, 674.50302, 216.70966, 10.59277, 0.0, 0.0, 0.0, 0.0, 0.0]\n",
      "Fecha: 2023-04-04, Número de valores: 24, Valores: [0.0, 0.0, 0.0, 0.0, 0.0, 0.0, 138.53802, 617.9711599999999, 1212.11831, 1709.14465, 2036.47636, 2214.01901, 2239.15946, 2084.87068, 1755.22002, 1256.50176, 674.50302, 216.70966, 10.59277, 0.0, 0.0, 0.0, 0.0, 0.0]\n"
     ]
    }
   ],
   "source": [
    "# --- Celda 3: Carga de datos de generación ---\n",
    "from Files.KWH.data_loader import cargar_datos_generacion\n",
    "\n",
    "# Cargar datos reales y predichos\n",
    "REAL = cargar_datos_generacion(directorio_real, columna_objetivo=\"Pdc, W\")\n",
    "AHEAD = cargar_datos_generacion(directorio_predicho, columna_objetivo=\"Pdc, W\")\n",
    "\n",
    "# Depuración: Verificar contenido después de la carga\n",
    "print(\"Datos reales (REAL):\")\n",
    "for fecha, valores in REAL.items():\n",
    "    print(f\"Fecha: {fecha}, Número de valores: {len(valores)}, Valores: {valores}\")\n",
    "\n",
    "print(\"\\nDatos predichos (AHEAD):\")\n",
    "for fecha, valores in AHEAD.items():\n",
    "    print(f\"Fecha: {fecha}, Número de valores: {len(valores)}, Valores: {valores}\")\n",
    "\n",
    "# Manejo de TODAY\n",
    "TODAY = AHEAD  # Si TODAY también proviene de Predicho\n"
   ]
  },
  {
   "cell_type": "code",
   "execution_count": 5,
   "metadata": {},
   "outputs": [
    {
     "name": "stdout",
     "output_type": "stream",
     "text": [
      "['https://www.simem.co/backend-files/api/PublicData?datasetId=EC6945&startdate=2023-04-01&enddate=2023-04-01']\n",
      "['https://www.simem.co/backend-files/api/PublicData?datasetId=EC6945&startdate=2023-04-02&enddate=2023-04-02']\n",
      "['https://www.simem.co/backend-files/api/PublicData?datasetId=EC6945&startdate=2023-04-03&enddate=2023-04-03']\n",
      "['https://www.simem.co/backend-files/api/PublicData?datasetId=EC6945&startdate=2023-04-04&enddate=2023-04-04']\n",
      "['https://www.simem.co/backend-files/api/PublicData?datasetId=EC6945&startdate=2023-04-05&enddate=2023-04-05']\n",
      "Precios de bolsa (STOCK_PRICE): {'2023-04-01': [142.0, 125.0, 125.0, 125.0, 125.0, 125.0, 125.0, 126.0, 142.0, 158.0, 158.0, 163.0, 168.0, 163.0, 158.0, 158.0, 158.0, 158.0, 166.0, 173.0, 173.0, 166.0, 158.0, 158.0], '2023-04-02': [159.0, 159.0, 149.0, 139.0, 139.0, 139.0, 139.0, 139.0, 139.0, 149.0, 159.0, 159.0, 159.0, 159.0, 159.0, 159.0, 159.0, 159.0, 159.0, 164.0, 171.0, 171.0, 164.0, 159.0], '2023-04-03': [141.0, 126.0, 126.0, 125.0, 125.0, 126.0, 126.0, 132.0, 146.0, 156.0, 157.0, 157.0, 157.0, 157.0, 157.0, 157.0, 157.0, 157.0, 157.0, 162.0, 162.0, 157.0, 157.0, 156.0], '2023-04-04': [135.0, 134.0, 134.0, 134.0, 134.0, 135.0, 135.0, 135.0, 141.0, 146.0, 146.0, 150.0, 153.0, 153.0, 165.0, 176.0, 176.0, 161.0, 161.0, 176.0, 176.0, 161.0, 146.0, 141.0], '2023-04-05': [139.0, 139.0, 139.0, 139.0, 139.0, 139.0, 139.0, 139.0, 139.0, 144.0, 148.0, 148.0, 148.0, 148.0, 148.0, 148.0, 148.0, 148.0, 154.0, 160.0, 154.0, 148.0, 144.0, 139.0]}\n"
     ]
    }
   ],
   "source": [
    "# --- Celda 4: Carga de precios de bolsa ---\n",
    "simem = ReadSIMEM()\n",
    "STOCK_PRICE = procesar_precio_bolsa(simem, p_bolsa_id, fecha_inicial, fecha_final)\n",
    "\n",
    "# Mostrar precios de bolsa\n",
    "print(\"Precios de bolsa (STOCK_PRICE):\", STOCK_PRICE)\n",
    "\n"
   ]
  },
  {
   "cell_type": "code",
   "execution_count": 21,
   "metadata": {},
   "outputs": [],
   "source": [
    "# --- Celda 5: Cálculo de penalidades ---\n",
    "def calcular_penalidades(real, ahead, today, stock_price):\n",
    "    \"\"\"\n",
    "    Calcula penalidades horarias y diarias para un rango de fechas.\n",
    "    \"\"\"\n",
    "    resultados = {}\n",
    "\n",
    "    for fecha in real.keys():\n",
    "        try:\n",
    "            # Convertir listas a arrays de NumPy\n",
    "            real_array = np.array(real[fecha], dtype=float)\n",
    "            ahead_array = np.array(ahead[fecha], dtype=float)\n",
    "            today_array = np.array(today[fecha], dtype=float)\n",
    "            stock_price_array = np.array(stock_price[fecha], dtype=float)\n",
    "\n",
    "            # Calcular tolerancias\n",
    "            tolerance_ahead = tolerance_range(first_dispatch=False, real=np.nansum(real_array), gx=np.nansum(ahead_array))\n",
    "            tolerance_today = tolerance_range(first_dispatch=True, real=np.nansum(real_array), gx=np.nansum(today_array))\n",
    "\n",
    "            # Calcular pagos horarios\n",
    "            payment_ahead = hourly_payment(tolerance=tolerance_ahead, real=real_array, gx=ahead_array, stock_price=stock_price_array)\n",
    "            payment_today = hourly_payment(tolerance=tolerance_today, real=real_array, gx=today_array, stock_price=stock_price_array)\n",
    "\n",
    "            # Calcular pago diario\n",
    "            daily_payment_result = daily_payment(ahead=payment_ahead, today=payment_today)\n",
    "\n",
    "            # Guardar resultados\n",
    "            resultados[fecha] = {\n",
    "                \"payment_ahead\": payment_ahead,\n",
    "                \"payment_today\": payment_today,\n",
    "                \"daily_payment\": daily_payment_result\n",
    "            }\n",
    "\n",
    "        except Exception as e:\n",
    "            print(f\"Error procesando la fecha {fecha}: {e}\")\n",
    "\n",
    "    return resultados\n",
    "\n",
    "# Calcular penalidades\n",
    "resultados_penalidades = calcular_penalidades(REAL, AHEAD, TODAY, STOCK_PRICE)\n",
    "\n"
   ]
  },
  {
   "cell_type": "code",
   "execution_count": 22,
   "metadata": {},
   "outputs": [
    {
     "name": "stdout",
     "output_type": "stream",
     "text": [
      "Fecha: 2023-04-04\n",
      "Pago por predicción (AHEAD): [0. 0. 0. 0. 0. 0. 0. 0. 0. 0. 0. 0. 0. 0. 0. 0. 0. 0. 0. 0. 0. 0. 0. 0.]\n",
      "Pago por predicción (TODAY): [0. 0. 0. 0. 0. 0. 0. 0. 0. 0. 0. 0. 0. 0. 0. 0. 0. 0. 0. 0. 0. 0. 0. 0.]\n",
      "Pago diario: 0.0\n",
      "-----\n",
      "Fecha: 2023-04-02\n",
      "Pago por predicción (AHEAD): [0. 0. 0. 0. 0. 0. 0. 0. 0. 0. 0. 0. 0. 0. 0. 0. 0. 0. 0. 0. 0. 0. 0. 0.]\n",
      "Pago por predicción (TODAY): [0. 0. 0. 0. 0. 0. 0. 0. 0. 0. 0. 0. 0. 0. 0. 0. 0. 0. 0. 0. 0. 0. 0. 0.]\n",
      "Pago diario: 0.0\n",
      "-----\n",
      "Fecha: 2023-04-05\n",
      "Pago por predicción (AHEAD): [    0.      0.      0.      0.      0.    356.9 18383.3 34072.  23732.8\n",
      " 43422.6 42308.4     0.  60673.8 51933.8 70251.3 65333.9 75253.8 16406.3\n",
      "  1561.4     0.      0.      0.      0.      0. ]\n",
      "Pago por predicción (TODAY): [0. 0. 0. 0. 0. 0. 0. 0. 0. 0. 0. 0. 0. 0. 0. 0. 0. 0. 0. 0. 0. 0. 0. 0.]\n",
      "Pago diario: 503690.3\n",
      "-----\n",
      "Fecha: 2023-04-03\n",
      "Pago por predicción (AHEAD): [0. 0. 0. 0. 0. 0. 0. 0. 0. 0. 0. 0. 0. 0. 0. 0. 0. 0. 0. 0. 0. 0. 0. 0.]\n",
      "Pago por predicción (TODAY): [0. 0. 0. 0. 0. 0. 0. 0. 0. 0. 0. 0. 0. 0. 0. 0. 0. 0. 0. 0. 0. 0. 0. 0.]\n",
      "Pago diario: 0.0\n",
      "-----\n",
      "Fecha: 2023-04-01\n",
      "Pago por predicción (AHEAD): [0. 0. 0. 0. 0. 0. 0. 0. 0. 0. 0. 0. 0. 0. 0. 0. 0. 0. 0. 0. 0. 0. 0. 0.]\n",
      "Pago por predicción (TODAY): [0. 0. 0. 0. 0. 0. 0. 0. 0. 0. 0. 0. 0. 0. 0. 0. 0. 0. 0. 0. 0. 0. 0. 0.]\n",
      "Pago diario: 0.0\n",
      "-----\n"
     ]
    }
   ],
   "source": [
    "# --- Celda 6: Visualización de resultados ---\n",
    "# Mostrar resultados finales\n",
    "for fecha, resultado in resultados_penalidades.items():\n",
    "    print(f\"Fecha: {fecha}\")\n",
    "    print(\"Pago por predicción (AHEAD):\", resultado[\"payment_ahead\"])\n",
    "    print(\"Pago por predicción (TODAY):\", resultado[\"payment_today\"])\n",
    "    print(\"Pago diario:\", resultado[\"daily_payment\"])\n",
    "    print(\"-----\")\n"
   ]
  }
 ],
 "metadata": {
  "kernelspec": {
   "display_name": "base",
   "language": "python",
   "name": "python3"
  },
  "language_info": {
   "codemirror_mode": {
    "name": "ipython",
    "version": 3
   },
   "file_extension": ".py",
   "mimetype": "text/x-python",
   "name": "python",
   "nbconvert_exporter": "python",
   "pygments_lexer": "ipython3",
   "version": "3.11.5"
  }
 },
 "nbformat": 4,
 "nbformat_minor": 2
}
